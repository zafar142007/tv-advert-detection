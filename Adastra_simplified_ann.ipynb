{
  "nbformat": 4,
  "nbformat_minor": 0,
  "metadata": {
    "colab": {
      "name": "Adastra_simplified_ann.ipynb",
      "provenance": [],
      "collapsed_sections": [],
      "mount_file_id": "1i_-cik2ly0lkgdXkeRyRxlTPML2Rp73s",
      "authorship_tag": "ABX9TyO/JlSDe7PDEAclaYiVbYNR",
      "include_colab_link": true
    },
    "kernelspec": {
      "name": "python3",
      "display_name": "Python 3"
    }
  },
  "cells": [
    {
      "cell_type": "markdown",
      "metadata": {
        "id": "view-in-github",
        "colab_type": "text"
      },
      "source": [
        "<a href=\"https://colab.research.google.com/github/zafar142007/tv-advert-detection/blob/master/Adastra_simplified_ann.ipynb\" target=\"_parent\"><img src=\"https://colab.research.google.com/assets/colab-badge.svg\" alt=\"Open In Colab\"/></a>"
      ]
    },
    {
      "cell_type": "code",
      "metadata": {
        "id": "QoGmtxyUEdhf",
        "colab_type": "code",
        "colab": {
          "base_uri": "https://localhost:8080/",
          "height": 34
        },
        "outputId": "6b1e8d48-0479-4803-bd42-95420a7de401"
      },
      "source": [
        "from datetime import datetime\n",
        "import math\n",
        "import librosa\n",
        "import pandas as pd\n",
        "import numpy as np\n",
        "import matplotlib.pyplot as plt\n",
        "%matplotlib inline\n",
        "import os\n",
        "from PIL import Image\n",
        "import pathlib\n",
        "import csv\n",
        "from sklearn.model_selection import train_test_split\n",
        "from sklearn.preprocessing import LabelEncoder, StandardScaler\n",
        "import keras\n",
        "from keras import layers\n",
        "from keras import layers\n",
        "import keras\n",
        "from keras.models import Sequential\n",
        "import warnings\n",
        "warnings.filterwarnings('ignore') "
      ],
      "execution_count": 1,
      "outputs": [
        {
          "output_type": "stream",
          "text": [
            "Using TensorFlow backend.\n"
          ],
          "name": "stderr"
        }
      ]
    },
    {
      "cell_type": "code",
      "metadata": {
        "id": "sSL6aZChLTj9",
        "colab_type": "code",
        "colab": {}
      },
      "source": [
        "header = 'filename chroma_stft rmse spectral_centroid spectral_bandwidth rolloff zero_crossing_rate'\n",
        "for i in range(1, 21):\n",
        "    header += f' mfcc{i}'\n",
        "header += ' label'\n",
        "header = header.split()"
      ],
      "execution_count": 0,
      "outputs": []
    },
    {
      "cell_type": "code",
      "metadata": {
        "id": "VOdZxX_TLZpI",
        "colab_type": "code",
        "colab": {}
      },
      "source": [
        "file = open('./drive/My Drive/Colab Notebooks/dataset.csv', 'w', newline='')\n",
        "with file:\n",
        "    writer = csv.writer(file)\n",
        "    writer.writerow(header)\n",
        "classes = 'ad non-ad'.split()\n",
        "for g in classes:\n",
        "    for filename in os.listdir(f'./drive/My Drive/Colab Notebooks/dataset/{g}'):\n",
        "        rec = f'./drive/My Drive/Colab Notebooks/dataset/{g}/{filename}'\n",
        "        y, sr = librosa.load(rec, mono=True, duration=5)\n",
        "        rmse = librosa.feature.rmse(y=y)\n",
        "        chroma_stft = librosa.feature.chroma_stft(y=y, sr=sr)\n",
        "        spec_cent = librosa.feature.spectral_centroid(y=y, sr=sr)\n",
        "        spec_bw = librosa.feature.spectral_bandwidth(y=y, sr=sr)\n",
        "        rolloff = librosa.feature.spectral_rolloff(y=y, sr=sr)\n",
        "        zcr = librosa.feature.zero_crossing_rate(y)\n",
        "        mfcc = librosa.feature.mfcc(y=y, sr=sr)\n",
        "        to_append = f'{filename.replace(\" \", \"-\")} {np.mean(chroma_stft)} {np.mean(rmse)} {np.mean(spec_cent)} {np.mean(spec_bw)} {np.mean(rolloff)} {np.mean(zcr)}'    \n",
        "        for e in mfcc:\n",
        "            to_append += f' {np.mean(e)}'\n",
        "        to_append += f' {g}'\n",
        "        file = open('./drive/My Drive/Colab Notebooks/dataset.csv', 'a', newline='')\n",
        "        with file:\n",
        "            writer = csv.writer(file)\n",
        "            writer.writerow(to_append.split())"
      ],
      "execution_count": 0,
      "outputs": []
    },
    {
      "cell_type": "code",
      "metadata": {
        "id": "feqPXjX1LaYS",
        "colab_type": "code",
        "colab": {}
      },
      "source": [
        "data = pd.read_csv('./drive/My Drive/Colab Notebooks/dataset.csv')\n",
        "data.head()\n",
        "# Dropping unneccesary columns\n",
        "data = data.drop(['filename'],axis=1)\n",
        "#Encoding the Labels\n",
        "genre_list = data.iloc[:, -1]\n",
        "encoder = LabelEncoder()\n",
        "y = encoder.fit_transform(genre_list)\n",
        "#Scaling the Feature columns\n",
        "scaler = StandardScaler()\n",
        "X = scaler.fit_transform(np.array(data.iloc[:, :-1], dtype = float))\n",
        "#Dividing data into training and Testing set\n",
        "X_train, X_test, y_train, y_test = train_test_split(X, y, test_size=0.1)"
      ],
      "execution_count": 0,
      "outputs": []
    },
    {
      "cell_type": "code",
      "metadata": {
        "id": "XjpBK4E1M2mZ",
        "colab_type": "code",
        "colab": {}
      },
      "source": [
        ""
      ],
      "execution_count": 0,
      "outputs": []
    },
    {
      "cell_type": "code",
      "metadata": {
        "id": "ZnWw-S6VLcoq",
        "colab_type": "code",
        "outputId": "b7ad5f51-de8f-4c00-9d85-f0a6a735f161",
        "colab": {
          "base_uri": "https://localhost:8080/",
          "height": 1000
        }
      },
      "source": [
        "#Validating our approach\n",
        "x_val = X_train[:20]\n",
        "partial_x_train = X_train[20:]\n",
        "\n",
        "y_val = y_train[:20]\n",
        "partial_y_train = y_train[20:]\n",
        "\n",
        "model = Sequential()\n",
        "model.add(layers.Dense(512, activation='relu', input_shape=(X_train.shape[1],)))\n",
        "model.add(layers.Dense(256, activation='relu'))\n",
        "model.add(layers.Dense(128, activation='relu'))\n",
        "model.add(layers.Dense(64, activation='relu'))\n",
        "model.add(layers.Dense(2, activation='softmax'))\n",
        "\n",
        "model.compile(optimizer='adam',\n",
        "              loss='sparse_categorical_crossentropy',\n",
        "              metrics=['accuracy'])\n",
        "\n",
        "model.fit(partial_x_train,\n",
        "          partial_y_train,\n",
        "          epochs=30,\n",
        "          batch_size=500,\n",
        "          validation_data=(x_val, y_val))\n",
        "results = model.evaluate(X_test, y_test)\n",
        "#save\n",
        "model_name = './drive/My Drive/Colab Notebooks/model-'+str(datetime.now()).replace(\" \", \"-\").replace(\".\", \"-\");\n",
        "model.save(model_name+'.h5')\n",
        "np.save(model_name+ '_mean', scaler.mean_)\n",
        "np.save(model_name+'_var', scaler.var_)\n",
        "#Predictions on Test Data\n",
        "predictions = model.predict(X_test)"
      ],
      "execution_count": 0,
      "outputs": [
        {
          "output_type": "stream",
          "text": [
            "Train on 817 samples, validate on 20 samples\n",
            "Epoch 1/30\n",
            "817/817 [==============================] - 0s 416us/step - loss: 0.6744 - accuracy: 0.5777 - val_loss: 0.6614 - val_accuracy: 0.6500\n",
            "Epoch 2/30\n",
            "817/817 [==============================] - 0s 47us/step - loss: 0.5497 - accuracy: 0.8054 - val_loss: 0.6013 - val_accuracy: 0.6500\n",
            "Epoch 3/30\n",
            "817/817 [==============================] - 0s 40us/step - loss: 0.4391 - accuracy: 0.8409 - val_loss: 0.5500 - val_accuracy: 0.7500\n",
            "Epoch 4/30\n",
            "817/817 [==============================] - 0s 40us/step - loss: 0.3594 - accuracy: 0.8617 - val_loss: 0.5559 - val_accuracy: 0.7500\n",
            "Epoch 5/30\n",
            "817/817 [==============================] - 0s 38us/step - loss: 0.2951 - accuracy: 0.8862 - val_loss: 0.5673 - val_accuracy: 0.8000\n",
            "Epoch 6/30\n",
            "817/817 [==============================] - 0s 38us/step - loss: 0.2448 - accuracy: 0.9180 - val_loss: 0.5312 - val_accuracy: 0.8000\n",
            "Epoch 7/30\n",
            "817/817 [==============================] - 0s 40us/step - loss: 0.2154 - accuracy: 0.9315 - val_loss: 0.4688 - val_accuracy: 0.8500\n",
            "Epoch 8/30\n",
            "817/817 [==============================] - 0s 42us/step - loss: 0.1790 - accuracy: 0.9412 - val_loss: 0.4117 - val_accuracy: 0.9000\n",
            "Epoch 9/30\n",
            "817/817 [==============================] - 0s 41us/step - loss: 0.1467 - accuracy: 0.9510 - val_loss: 0.3859 - val_accuracy: 0.9000\n",
            "Epoch 10/30\n",
            "817/817 [==============================] - 0s 39us/step - loss: 0.1240 - accuracy: 0.9670 - val_loss: 0.3576 - val_accuracy: 0.8500\n",
            "Epoch 11/30\n",
            "817/817 [==============================] - 0s 40us/step - loss: 0.1057 - accuracy: 0.9657 - val_loss: 0.3332 - val_accuracy: 0.8500\n",
            "Epoch 12/30\n",
            "817/817 [==============================] - 0s 40us/step - loss: 0.0867 - accuracy: 0.9804 - val_loss: 0.3429 - val_accuracy: 0.9000\n",
            "Epoch 13/30\n",
            "817/817 [==============================] - 0s 38us/step - loss: 0.0697 - accuracy: 0.9816 - val_loss: 0.3643 - val_accuracy: 0.8500\n",
            "Epoch 14/30\n",
            "817/817 [==============================] - 0s 39us/step - loss: 0.0587 - accuracy: 0.9878 - val_loss: 0.3886 - val_accuracy: 0.9000\n",
            "Epoch 15/30\n",
            "817/817 [==============================] - 0s 40us/step - loss: 0.0462 - accuracy: 0.9927 - val_loss: 0.4262 - val_accuracy: 0.9000\n",
            "Epoch 16/30\n",
            "817/817 [==============================] - 0s 39us/step - loss: 0.0364 - accuracy: 0.9927 - val_loss: 0.3764 - val_accuracy: 0.9000\n",
            "Epoch 17/30\n",
            "817/817 [==============================] - 0s 45us/step - loss: 0.0281 - accuracy: 0.9951 - val_loss: 0.3860 - val_accuracy: 0.9000\n",
            "Epoch 18/30\n",
            "817/817 [==============================] - 0s 38us/step - loss: 0.0206 - accuracy: 0.9963 - val_loss: 0.3960 - val_accuracy: 0.9000\n",
            "Epoch 19/30\n",
            "817/817 [==============================] - 0s 39us/step - loss: 0.0170 - accuracy: 0.9976 - val_loss: 0.3630 - val_accuracy: 0.9000\n",
            "Epoch 20/30\n",
            "817/817 [==============================] - 0s 39us/step - loss: 0.0119 - accuracy: 1.0000 - val_loss: 0.4017 - val_accuracy: 0.9000\n",
            "Epoch 21/30\n",
            "817/817 [==============================] - 0s 41us/step - loss: 0.0090 - accuracy: 1.0000 - val_loss: 0.4806 - val_accuracy: 0.9000\n",
            "Epoch 22/30\n",
            "817/817 [==============================] - 0s 43us/step - loss: 0.0068 - accuracy: 1.0000 - val_loss: 0.5483 - val_accuracy: 0.9000\n",
            "Epoch 23/30\n",
            "817/817 [==============================] - 0s 42us/step - loss: 0.0053 - accuracy: 1.0000 - val_loss: 0.5688 - val_accuracy: 0.9000\n",
            "Epoch 24/30\n",
            "817/817 [==============================] - 0s 38us/step - loss: 0.0038 - accuracy: 1.0000 - val_loss: 0.5637 - val_accuracy: 0.9000\n",
            "Epoch 25/30\n",
            "817/817 [==============================] - 0s 37us/step - loss: 0.0034 - accuracy: 1.0000 - val_loss: 0.5780 - val_accuracy: 0.9000\n",
            "Epoch 26/30\n",
            "817/817 [==============================] - 0s 38us/step - loss: 0.0023 - accuracy: 1.0000 - val_loss: 0.6219 - val_accuracy: 0.9000\n",
            "Epoch 27/30\n",
            "817/817 [==============================] - 0s 39us/step - loss: 0.0028 - accuracy: 0.9988 - val_loss: 0.6195 - val_accuracy: 0.9000\n",
            "Epoch 28/30\n",
            "817/817 [==============================] - 0s 38us/step - loss: 0.0018 - accuracy: 1.0000 - val_loss: 0.5775 - val_accuracy: 0.9000\n",
            "Epoch 29/30\n",
            "817/817 [==============================] - 0s 40us/step - loss: 0.0017 - accuracy: 1.0000 - val_loss: 0.5815 - val_accuracy: 0.9000\n",
            "Epoch 30/30\n",
            "817/817 [==============================] - 0s 46us/step - loss: 0.0016 - accuracy: 1.0000 - val_loss: 0.6291 - val_accuracy: 0.9000\n",
            "94/94 [==============================] - 0s 86us/step\n"
          ],
          "name": "stdout"
        }
      ]
    },
    {
      "cell_type": "code",
      "metadata": {
        "id": "JFpeK9AKM7SL",
        "colab_type": "code",
        "colab": {
          "base_uri": "https://localhost:8080/",
          "height": 292
        },
        "outputId": "395ee0e7-3ac4-4abf-b7da-c944955bc269"
      },
      "source": [
        "# Making the Confusion Matrix\n",
        "from sklearn.metrics import confusion_matrix\n",
        "classes=[]\n",
        "for pred in predictions:\n",
        "  if pred[0]>pred[1]:\n",
        "    classes.append(0)\n",
        "  else:\n",
        "    classes.append(1)\n",
        "cm = confusion_matrix(y_test, classes)\n",
        "print(cm)\n",
        "np.save(model_name+ '_confusion_matrix', cm)\n",
        "plt.matshow(cm)\n",
        "plt.title('0 - AD, 1 - NON-AD')\n",
        "plt.colorbar()\n",
        "plt.savefig(model_name+'_confusion_matrix.png')\n",
        "plt.show()"
      ],
      "execution_count": 21,
      "outputs": [
        {
          "output_type": "stream",
          "text": [
            "[[50  1]\n",
            " [ 2 41]]\n"
          ],
          "name": "stdout"
        },
        {
          "output_type": "display_data",
          "data": {
            "image/png": "[encoded data removed]",
            "text/plain": [
              "<Figure size 288x288 with 2 Axes>"
            ]
          },
          "metadata": {
            "tags": [],
            "needs_background": "light"
          }
        }
      ]
    }
  ]
}